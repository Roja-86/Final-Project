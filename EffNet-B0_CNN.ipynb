{
 "cells": [
  {
   "cell_type": "markdown",
   "metadata": {},
   "source": [
    "### Essential Libraries"
   ]
  },
  {
   "cell_type": "code",
   "execution_count": 1,
   "metadata": {},
   "outputs": [],
   "source": [
    "import torch\n",
    "import torch.nn as nn\n",
    "from torchvision import transforms\n",
    "from torch.utils.data import DataLoader\n",
    "from dataloader import ATeX  # Ensure dataloader.py is in the same directory or in PYTHONPATH\n",
    "import torchvision.models as models\n",
    "from sklearn.metrics import classification_report  # Import the function\n",
    "from torch.optim import SGD\n",
    "import numpy as np\n",
    "from torchvision.models import efficientnet_b0\n",
    "from sklearn.metrics import accuracy_score\n",
    "from torch.optim.lr_scheduler import CosineAnnealingLR"
   ]
  },
  {
   "cell_type": "markdown",
   "metadata": {},
   "source": [
    "### Dataset Preparation and DataLoader Setup"
   ]
  },
  {
   "cell_type": "code",
   "execution_count": 2,
   "metadata": {},
   "outputs": [],
   "source": [
    "# Define transformations and dataset\n",
    "mean_std = ([0.485, 0.456, 0.406], [0.229, 0.224, 0.225])\n",
    "data_transforms = transforms.Compose([\n",
    "    transforms.ToTensor(),\n",
    "    transforms.Normalize(mean_std[0], mean_std[1]),\n",
    "])\n",
    "\n",
    "train_dataset = ATeX(split=\"train\", transform=data_transforms)\n",
    "test_dataset = ATeX(split=\"test\", transform=data_transforms)\n",
    "\n",
    "# Define DataLoaders\n",
    "batch_size = 64\n",
    "train_loader = DataLoader(train_dataset, batch_size=batch_size, shuffle=True)\n",
    "test_loader = DataLoader(test_dataset, batch_size=batch_size, shuffle=False)\n",
    "\n",
    "# Validation Dataset and DataLoader\n",
    "val_dataset = ATeX(split=\"val\", transform=data_transforms)\n",
    "val_loader = DataLoader(val_dataset, batch_size=batch_size, shuffle=False)"
   ]
  },
  {
   "cell_type": "markdown",
   "metadata": {},
   "source": [
    "### Define the CNN model"
   ]
  },
  {
   "cell_type": "code",
   "execution_count": 3,
   "metadata": {},
   "outputs": [
    {
     "name": "stderr",
     "output_type": "stream",
     "text": [
      "c:\\Users\\Roja\\AppData\\Local\\Programs\\Python\\Python312\\Lib\\site-packages\\torchvision\\models\\_utils.py:208: UserWarning: The parameter 'pretrained' is deprecated since 0.13 and may be removed in the future, please use 'weights' instead.\n",
      "  warnings.warn(\n",
      "c:\\Users\\Roja\\AppData\\Local\\Programs\\Python\\Python312\\Lib\\site-packages\\torchvision\\models\\_utils.py:223: UserWarning: Arguments other than a weight enum or `None` for 'weights' are deprecated since 0.13 and may be removed in the future. The current behavior is equivalent to passing `weights=EfficientNet_B0_Weights.IMAGENET1K_V1`. You can also use `weights=EfficientNet_B0_Weights.DEFAULT` to get the most up-to-date weights.\n",
      "  warnings.warn(msg)\n"
     ]
    }
   ],
   "source": [
    "# Load pre-trained EfficientNet-B0 model and modify for 15 classes\n",
    "class EffNetB0(nn.Module):\n",
    "    def __init__(self, num_classes=15):\n",
    "        super(EffNetB0, self).__init__()\n",
    "        self.effnet = efficientnet_b0(pretrained=True)\n",
    "        # Replace the classifier with a new one for 15 classes\n",
    "        self.effnet.classifier[1] = nn.Linear(self.effnet.classifier[1].in_features, num_classes)\n",
    "\n",
    "    def forward(self, x):\n",
    "        return self.effnet(x)\n",
    "\n",
    "# Instantiate the model\n",
    "device = torch.device(\"cuda\" if torch.cuda.is_available() else \"cpu\")\n",
    "model = EffNetB0(num_classes=15).to(device)\n"
   ]
  },
  {
   "cell_type": "markdown",
   "metadata": {},
   "source": [
    "### Training, Validation and Evaluation"
   ]
  },
  {
   "cell_type": "code",
   "execution_count": 4,
   "metadata": {},
   "outputs": [
    {
     "name": "stdout",
     "output_type": "stream",
     "text": [
      "Epoch [1/30]: Train Loss: 2.0953, Val Loss: 1.6444, Precision: 0.4908, Recall: 0.4952, F1-Score: 0.4703\n",
      "Epoch [2/30]: Train Loss: 1.4557, Val Loss: 1.1627, Precision: 0.6265, Recall: 0.6118, F1-Score: 0.6071\n",
      "Epoch [3/30]: Train Loss: 1.0522, Val Loss: 0.8320, Precision: 0.7487, Recall: 0.7412, F1-Score: 0.7379\n",
      "Epoch [4/30]: Train Loss: 0.8547, Val Loss: 0.7124, Precision: 0.7808, Recall: 0.7740, F1-Score: 0.7748\n",
      "Epoch [5/30]: Train Loss: 0.6690, Val Loss: 0.7057, Precision: 0.7669, Recall: 0.7604, F1-Score: 0.7598\n",
      "Epoch [6/30]: Train Loss: 0.5663, Val Loss: 0.5448, Precision: 0.8459, Recall: 0.8450, F1-Score: 0.8446\n",
      "Epoch [7/30]: Train Loss: 0.4864, Val Loss: 0.7107, Precision: 0.8255, Recall: 0.8187, F1-Score: 0.8184\n",
      "Epoch [8/30]: Train Loss: 0.4359, Val Loss: 0.4873, Precision: 0.8526, Recall: 0.8482, F1-Score: 0.8482\n",
      "Epoch [9/30]: Train Loss: 0.3534, Val Loss: 0.4541, Precision: 0.8556, Recall: 0.8538, F1-Score: 0.8531\n",
      "Epoch [10/30]: Train Loss: 0.2980, Val Loss: 0.4171, Precision: 0.8699, Recall: 0.8674, F1-Score: 0.8671\n",
      "Epoch [11/30]: Train Loss: 0.2498, Val Loss: 0.3925, Precision: 0.8826, Recall: 0.8818, F1-Score: 0.8816\n",
      "Epoch [12/30]: Train Loss: 0.2226, Val Loss: 0.3460, Precision: 0.8920, Recall: 0.8906, F1-Score: 0.8906\n",
      "Epoch [13/30]: Train Loss: 0.1956, Val Loss: 0.3723, Precision: 0.8845, Recall: 0.8818, F1-Score: 0.8817\n",
      "Epoch [14/30]: Train Loss: 0.1852, Val Loss: 0.3742, Precision: 0.8853, Recall: 0.8826, F1-Score: 0.8827\n",
      "Epoch [15/30]: Train Loss: 0.1670, Val Loss: 0.3567, Precision: 0.8875, Recall: 0.8810, F1-Score: 0.8821\n",
      "Epoch [16/30]: Train Loss: 0.1426, Val Loss: 0.3439, Precision: 0.9090, Recall: 0.9050, F1-Score: 0.9052\n",
      "Epoch [17/30]: Train Loss: 0.1291, Val Loss: 0.3638, Precision: 0.8964, Recall: 0.8938, F1-Score: 0.8938\n",
      "Epoch [18/30]: Train Loss: 0.1498, Val Loss: 0.4816, Precision: 0.8660, Recall: 0.8634, F1-Score: 0.8629\n",
      "Epoch [19/30]: Train Loss: 0.1345, Val Loss: 0.3452, Precision: 0.9083, Recall: 0.9073, F1-Score: 0.9072\n",
      "Epoch [20/30]: Train Loss: 0.1020, Val Loss: 0.3627, Precision: 0.9035, Recall: 0.9034, F1-Score: 0.9030\n",
      "Epoch [21/30]: Train Loss: 0.1046, Val Loss: 0.3476, Precision: 0.9058, Recall: 0.9050, F1-Score: 0.9048\n",
      "Epoch [22/30]: Train Loss: 0.0860, Val Loss: 0.3423, Precision: 0.9054, Recall: 0.9026, F1-Score: 0.9029\n",
      "Epoch [23/30]: Train Loss: 0.0899, Val Loss: 0.3379, Precision: 0.9184, Recall: 0.9177, F1-Score: 0.9178\n",
      "Epoch [24/30]: Train Loss: 0.0775, Val Loss: 0.3118, Precision: 0.9204, Recall: 0.9201, F1-Score: 0.9199\n",
      "Epoch [25/30]: Train Loss: 0.0787, Val Loss: 0.3348, Precision: 0.9155, Recall: 0.9145, F1-Score: 0.9146\n",
      "Epoch [26/30]: Train Loss: 0.0771, Val Loss: 0.3267, Precision: 0.9210, Recall: 0.9201, F1-Score: 0.9202\n",
      "Epoch [27/30]: Train Loss: 0.0734, Val Loss: 0.3249, Precision: 0.9177, Recall: 0.9169, F1-Score: 0.9169\n",
      "Epoch [28/30]: Train Loss: 0.0746, Val Loss: 0.3268, Precision: 0.9143, Recall: 0.9129, F1-Score: 0.9131\n",
      "Epoch [29/30]: Train Loss: 0.0678, Val Loss: 0.3285, Precision: 0.9162, Recall: 0.9153, F1-Score: 0.9154\n",
      "Epoch [30/30]: Train Loss: 0.0708, Val Loss: 0.3355, Precision: 0.9120, Recall: 0.9089, F1-Score: 0.9095\n"
     ]
    }
   ],
   "source": [
    "optimizer = torch.optim.SGD(model.parameters(), lr=0.01, momentum=0.9, weight_decay=1e-4)\n",
    "scheduler = CosineAnnealingLR(optimizer, T_max=30)  # Cosine annealing over 30 epochs\n",
    "# Define the loss function (CrossEntropyLoss or Label Smoothing)\n",
    "criterion = nn.CrossEntropyLoss()  # Replace with label_smoothing_loss if needed\n",
    "\n",
    "num_epochs = 30\n",
    "for epoch in range(num_epochs):\n",
    "    # Training Phase\n",
    "    model.train()\n",
    "    running_loss = 0.0\n",
    "    for images, labels, _ in train_loader:\n",
    "        images, labels = images.to(device), labels.to(device)\n",
    "\n",
    "        # Forward pass\n",
    "        outputs = model(images)\n",
    "        loss = criterion(outputs, labels)  # Use the defined loss function\n",
    "\n",
    "        # Backward pass and optimization\n",
    "        optimizer.zero_grad()\n",
    "        loss.backward()\n",
    "        optimizer.step()\n",
    "\n",
    "        running_loss += loss.item()\n",
    "\n",
    "    # Calculate average training loss\n",
    "    train_loss = running_loss / len(train_loader)\n",
    "\n",
    "    # Update learning rate\n",
    "    scheduler.step()\n",
    "\n",
    "    # Validation Phase\n",
    "    model.eval()\n",
    "    val_loss = 0.0\n",
    "    all_val_labels = []\n",
    "    all_val_preds = []\n",
    "    with torch.no_grad():\n",
    "        for images, labels, _ in val_loader:\n",
    "            images, labels = images.to(device), labels.to(device)\n",
    "            outputs = model(images)\n",
    "            loss = criterion(outputs, labels)\n",
    "            val_loss += loss.item()\n",
    "\n",
    "            _, preds = torch.max(outputs, 1)\n",
    "            all_val_labels.extend(labels.cpu().numpy())\n",
    "            all_val_preds.extend(preds.cpu().numpy())\n",
    "\n",
    "    # Calculate validation metrics\n",
    "    val_loss /= len(val_loader)\n",
    "    val_report = classification_report(\n",
    "        all_val_labels, all_val_preds, target_names=train_dataset.classes, zero_division=0, output_dict=True\n",
    "    )\n",
    "    val_precision = val_report['weighted avg']['precision']\n",
    "    val_recall = val_report['weighted avg']['recall']\n",
    "    val_f1 = val_report['weighted avg']['f1-score']\n",
    "\n",
    "    # Print training and validation metrics\n",
    "    print(f\"Epoch [{epoch+1}/{num_epochs}]: Train Loss: {train_loss:.4f}, \"\n",
    "          f\"Val Loss: {val_loss:.4f}, Precision: {val_precision:.4f}, \"\n",
    "          f\"Recall: {val_recall:.4f}, F1-Score: {val_f1:.4f}\")\n"
   ]
  },
  {
   "cell_type": "markdown",
   "metadata": {},
   "source": [
    "### Testing and Evaluation"
   ]
  },
  {
   "cell_type": "code",
   "execution_count": 5,
   "metadata": {},
   "outputs": [
    {
     "name": "stdout",
     "output_type": "stream",
     "text": [
      "Classification Report:\n",
      "\n",
      "              precision    recall  f1-score   support\n",
      "\n",
      "       delta       0.96      0.97      0.96       330\n",
      "     estuary       0.93      0.96      0.94       125\n",
      "       flood       0.93      0.90      0.91       283\n",
      "    glaciers       0.97      0.97      0.97       240\n",
      "  hot_spring       0.88      0.86      0.87       201\n",
      "        lake       0.87      0.86      0.87       153\n",
      "        pool       0.97      0.92      0.95        79\n",
      "      puddle       0.87      0.77      0.82       168\n",
      "      rapids       0.88      0.90      0.89       219\n",
      "       river       0.81      0.88      0.84        73\n",
      "         sea       0.90      0.96      0.93       108\n",
      "        snow       0.83      0.87      0.85       142\n",
      "       swamp       0.96      0.95      0.95       188\n",
      "   waterfall       0.69      0.75      0.72        96\n",
      "     wetland       0.99      0.97      0.98        93\n",
      "\n",
      "    accuracy                           0.91      2498\n",
      "   macro avg       0.90      0.90      0.90      2498\n",
      "weighted avg       0.91      0.91      0.91      2498\n",
      "\n"
     ]
    }
   ],
   "source": [
    "# Testing the model\n",
    "model.eval()\n",
    "all_labels = []\n",
    "all_preds = []\n",
    "\n",
    "with torch.no_grad():\n",
    "    for images, labels, _ in test_loader:  # Assuming your DataLoader provides 3 items\n",
    "        images, labels = images.to(device), labels.to(device)\n",
    "        outputs = model(images)\n",
    "        _, preds = torch.max(outputs, 1)\n",
    "        \n",
    "        all_labels.extend(labels.cpu().numpy())\n",
    "        all_preds.extend(preds.cpu().numpy())\n",
    "\n",
    "# Calculate classification metrics\n",
    "class_names = train_dataset.classes  # Assuming train_dataset has the class names\n",
    "report = classification_report(all_labels, all_preds, target_names=class_names)\n",
    "print(\"Classification Report:\\n\")\n",
    "print(report)\n",
    "\n",
    "# Compute per-class accuracy\n",
    "all_labels = np.array(all_labels)\n",
    "all_preds = np.array(all_preds)\n",
    "\n"
   ]
  },
  {
   "cell_type": "markdown",
   "metadata": {},
   "source": [
    "### Save Results"
   ]
  },
  {
   "cell_type": "code",
   "execution_count": 6,
   "metadata": {},
   "outputs": [],
   "source": [
    "# Save classification report\n",
    "with open(\"classification_report_EfficientNet-B0 model.txt\", \"w\") as f:\n",
    "    f.write(report)\n",
    "\n",
    "# Save model weights\n",
    "torch.save(model.state_dict(), \"EfficientNet-B0 model_cpu.pth\")"
   ]
  }
 ],
 "metadata": {
  "kernelspec": {
   "display_name": "Python 3",
   "language": "python",
   "name": "python3"
  },
  "language_info": {
   "codemirror_mode": {
    "name": "ipython",
    "version": 3
   },
   "file_extension": ".py",
   "mimetype": "text/x-python",
   "name": "python",
   "nbconvert_exporter": "python",
   "pygments_lexer": "ipython3",
   "version": "3.12.0"
  }
 },
 "nbformat": 4,
 "nbformat_minor": 2
}
