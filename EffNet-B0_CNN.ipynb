{
 "cells": [
  {
   "cell_type": "markdown",
   "metadata": {},
   "source": [
    "### Essential Libraries"
   ]
  },
  {
   "cell_type": "code",
   "execution_count": 1,
   "metadata": {},
   "outputs": [],
   "source": [
    "import torch\n",
    "import csv\n",
    "import os\n",
    "import time\n",
    "import torch.nn as nn\n",
    "from torchvision import transforms\n",
    "from torch.utils.data import DataLoader\n",
    "from dataloader import ATeX  # Ensure dataloader.py is in the same directory or in PYTHONPATH\n",
    "import torchvision.models as models\n",
    "from sklearn.metrics import classification_report  # Import the function\n",
    "from torch.optim import SGD\n",
    "import numpy as np\n",
    "from torchvision.models import efficientnet_b0\n",
    "from sklearn.metrics import accuracy_score\n",
    "from torch.optim.lr_scheduler import CosineAnnealingLR"
   ]
  },
  {
   "cell_type": "markdown",
   "metadata": {},
   "source": [
    "### Dataset Preparation and DataLoader Setup"
   ]
  },
  {
   "cell_type": "code",
   "execution_count": 2,
   "metadata": {},
   "outputs": [],
   "source": [
    "# Define transformations and dataset\n",
    "mean_std = ([0.485, 0.456, 0.406], [0.229, 0.224, 0.225])\n",
    "data_transforms = transforms.Compose([\n",
    "    transforms.ToTensor(),\n",
    "    transforms.Normalize(mean_std[0], mean_std[1]),\n",
    "])\n",
    "\n",
    "train_dataset = ATeX(split=\"train\", transform=data_transforms)\n",
    "test_dataset = ATeX(split=\"test\", transform=data_transforms)\n",
    "\n",
    "# Define DataLoaders\n",
    "batch_size = 64\n",
    "train_loader = DataLoader(train_dataset, batch_size=batch_size, shuffle=True)\n",
    "test_loader = DataLoader(test_dataset, batch_size=batch_size, shuffle=False)\n",
    "\n",
    "# Validation Dataset and DataLoader\n",
    "val_dataset = ATeX(split=\"val\", transform=data_transforms)\n",
    "val_loader = DataLoader(val_dataset, batch_size=batch_size, shuffle=False)"
   ]
  },
  {
   "cell_type": "markdown",
   "metadata": {},
   "source": [
    "### Define the CNN model"
   ]
  },
  {
   "cell_type": "code",
   "execution_count": 3,
   "metadata": {},
   "outputs": [
    {
     "name": "stderr",
     "output_type": "stream",
     "text": [
      "c:\\Users\\Roja\\AppData\\Local\\Programs\\Python\\Python312\\Lib\\site-packages\\torchvision\\models\\_utils.py:208: UserWarning: The parameter 'pretrained' is deprecated since 0.13 and may be removed in the future, please use 'weights' instead.\n",
      "  warnings.warn(\n",
      "c:\\Users\\Roja\\AppData\\Local\\Programs\\Python\\Python312\\Lib\\site-packages\\torchvision\\models\\_utils.py:223: UserWarning: Arguments other than a weight enum or `None` for 'weights' are deprecated since 0.13 and may be removed in the future. The current behavior is equivalent to passing `weights=EfficientNet_B0_Weights.IMAGENET1K_V1`. You can also use `weights=EfficientNet_B0_Weights.DEFAULT` to get the most up-to-date weights.\n",
      "  warnings.warn(msg)\n"
     ]
    }
   ],
   "source": [
    "# Load pre-trained EfficientNet-B0 model and modify for 15 classes\n",
    "class EffNetB0(nn.Module):\n",
    "    def __init__(self, num_classes=15):\n",
    "        super(EffNetB0, self).__init__()\n",
    "        self.effnet = efficientnet_b0(pretrained=True)\n",
    "        # Replace the classifier with a new one for 15 classes\n",
    "        self.effnet.classifier[1] = nn.Linear(self.effnet.classifier[1].in_features, num_classes)\n",
    "\n",
    "    def forward(self, x):\n",
    "        return self.effnet(x)\n",
    "\n",
    "# Instantiate the model\n",
    "device = torch.device(\"cuda\" if torch.cuda.is_available() else \"cpu\")\n",
    "model = EffNetB0(num_classes=15).to(device)\n"
   ]
  },
  {
   "cell_type": "markdown",
   "metadata": {},
   "source": [
    "### Training, Validation and Evaluation"
   ]
  },
  {
   "cell_type": "code",
   "execution_count": 4,
   "metadata": {},
   "outputs": [
    {
     "name": "stdout",
     "output_type": "stream",
     "text": [
      "Epoch [1/30]: Train Loss: 2.0943, Val Loss: 1.6475, Precision: 0.4707, Recall: 0.4784, F1-Score: 0.4639\n",
      "Epoch [2/30]: Train Loss: 1.4549, Val Loss: 1.1589, Precision: 0.6372, Recall: 0.6334, F1-Score: 0.6302\n",
      "Epoch [3/30]: Train Loss: 1.1241, Val Loss: 0.9293, Precision: 0.7058, Recall: 0.6949, F1-Score: 0.6931\n",
      "Epoch [4/30]: Train Loss: 0.8866, Val Loss: 0.7617, Precision: 0.7740, Recall: 0.7644, F1-Score: 0.7640\n",
      "Epoch [5/30]: Train Loss: 0.7514, Val Loss: 0.7017, Precision: 0.7851, Recall: 0.7748, F1-Score: 0.7730\n",
      "Epoch [6/30]: Train Loss: 0.6078, Val Loss: 0.6482, Precision: 0.7909, Recall: 0.7780, F1-Score: 0.7794\n",
      "Epoch [7/30]: Train Loss: 0.5164, Val Loss: 0.5586, Precision: 0.8267, Recall: 0.8227, F1-Score: 0.8217\n",
      "Epoch [8/30]: Train Loss: 0.4495, Val Loss: 0.5934, Precision: 0.8209, Recall: 0.8115, F1-Score: 0.8130\n",
      "Epoch [9/30]: Train Loss: 0.3911, Val Loss: 0.4955, Precision: 0.8497, Recall: 0.8442, F1-Score: 0.8456\n",
      "Epoch [10/30]: Train Loss: 0.3228, Val Loss: 0.4570, Precision: 0.8596, Recall: 0.8562, F1-Score: 0.8561\n",
      "Epoch [11/30]: Train Loss: 0.2630, Val Loss: 0.4563, Precision: 0.8610, Recall: 0.8562, F1-Score: 0.8550\n",
      "Epoch [12/30]: Train Loss: 0.2535, Val Loss: 0.4309, Precision: 0.8695, Recall: 0.8682, F1-Score: 0.8676\n",
      "Epoch [13/30]: Train Loss: 0.2049, Val Loss: 0.4754, Precision: 0.8697, Recall: 0.8658, F1-Score: 0.8659\n",
      "Epoch [14/30]: Train Loss: 0.1843, Val Loss: 0.4178, Precision: 0.8853, Recall: 0.8842, F1-Score: 0.8836\n",
      "Epoch [15/30]: Train Loss: 0.1615, Val Loss: 0.4190, Precision: 0.8900, Recall: 0.8882, F1-Score: 0.8880\n",
      "Epoch [16/30]: Train Loss: 0.1340, Val Loss: 0.4181, Precision: 0.8842, Recall: 0.8802, F1-Score: 0.8804\n",
      "Epoch [17/30]: Train Loss: 0.1102, Val Loss: 0.4153, Precision: 0.8974, Recall: 0.8962, F1-Score: 0.8958\n",
      "Epoch [18/30]: Train Loss: 0.1048, Val Loss: 0.4005, Precision: 0.8978, Recall: 0.8970, F1-Score: 0.8966\n",
      "Epoch [19/30]: Train Loss: 0.0814, Val Loss: 0.3845, Precision: 0.9042, Recall: 0.9034, F1-Score: 0.9031\n",
      "Epoch [20/30]: Train Loss: 0.0781, Val Loss: 0.3895, Precision: 0.9053, Recall: 0.9042, F1-Score: 0.9037\n",
      "Epoch [21/30]: Train Loss: 0.0786, Val Loss: 0.3773, Precision: 0.9047, Recall: 0.9042, F1-Score: 0.9036\n",
      "Epoch [22/30]: Train Loss: 0.0646, Val Loss: 0.3813, Precision: 0.9034, Recall: 0.9026, F1-Score: 0.9022\n",
      "Epoch [23/30]: Train Loss: 0.0634, Val Loss: 0.3682, Precision: 0.9100, Recall: 0.9097, F1-Score: 0.9091\n",
      "Epoch [24/30]: Train Loss: 0.0577, Val Loss: 0.3410, Precision: 0.9179, Recall: 0.9169, F1-Score: 0.9168\n",
      "Epoch [25/30]: Train Loss: 0.0518, Val Loss: 0.3540, Precision: 0.9124, Recall: 0.9121, F1-Score: 0.9118\n",
      "Epoch [26/30]: Train Loss: 0.0545, Val Loss: 0.3720, Precision: 0.9090, Recall: 0.9081, F1-Score: 0.9081\n",
      "Epoch [27/30]: Train Loss: 0.0503, Val Loss: 0.3620, Precision: 0.9144, Recall: 0.9129, F1-Score: 0.9128\n",
      "Epoch [28/30]: Train Loss: 0.0538, Val Loss: 0.3566, Precision: 0.9152, Recall: 0.9145, F1-Score: 0.9142\n",
      "Epoch [29/30]: Train Loss: 0.0530, Val Loss: 0.3536, Precision: 0.9165, Recall: 0.9161, F1-Score: 0.9159\n",
      "Epoch [30/30]: Train Loss: 0.0500, Val Loss: 0.3662, Precision: 0.9124, Recall: 0.9121, F1-Score: 0.9118\n",
      "Training metrics saved to: D:/USC_Course/CSCE 790 Section 007 Neural Networks and Their Applications/atex-main/loss_training time/training_metrics_efficientnet_b0.csv\n",
      "Total training time for all epochs: 35.20 minutes\n"
     ]
    }
   ],
   "source": [
    "# Initialize lists to store metrics\n",
    "metrics = []\n",
    "\n",
    "# Address to save the CSV file\n",
    "model_name = \"efficientnet_b0\"\n",
    "save_dir = r\"D:/USC_Course/CSCE 790 Section 007 Neural Networks and Their Applications/atex-main/loss_training time/\"\n",
    "save_path = os.path.join(save_dir, f\"training_metrics_{model_name}.csv\")\n",
    "\n",
    "# Ensure the directory exists\n",
    "os.makedirs(save_dir, exist_ok=True)\n",
    "\n",
    "# Define optimizer, scheduler, and loss function\n",
    "optimizer = torch.optim.SGD(model.parameters(), lr=0.01, momentum=0.9, weight_decay=1e-4)\n",
    "scheduler = torch.optim.lr_scheduler.CosineAnnealingLR(optimizer, T_max=30)\n",
    "criterion = nn.CrossEntropyLoss()  # Replace with label_smoothing_loss if needed\n",
    "\n",
    "# Record the start time of the training process\n",
    "training_start_time = time.time()\n",
    "\n",
    "# Training loop\n",
    "num_epochs = 30\n",
    "for epoch in range(num_epochs):\n",
    "    # Training Phase\n",
    "    model.train()\n",
    "    running_loss = 0.0\n",
    "    for images, labels, _ in train_loader:\n",
    "        images, labels = images.to(device), labels.to(device)\n",
    "\n",
    "        # Forward pass\n",
    "        outputs = model(images)\n",
    "        loss = criterion(outputs, labels)  # Use the defined loss function\n",
    "\n",
    "        # Backward pass and optimization\n",
    "        optimizer.zero_grad()\n",
    "        loss.backward()\n",
    "        optimizer.step()\n",
    "\n",
    "        running_loss += loss.item()\n",
    "\n",
    "    # Calculate average training loss\n",
    "    train_loss = running_loss / len(train_loader)\n",
    "\n",
    "    # Update learning rate\n",
    "    scheduler.step()\n",
    "\n",
    "    # Validation Phase\n",
    "    model.eval()\n",
    "    val_loss = 0.0\n",
    "    all_val_labels = []\n",
    "    all_val_preds = []\n",
    "    with torch.no_grad():\n",
    "        for images, labels, _ in val_loader:\n",
    "            images, labels = images.to(device), labels.to(device)\n",
    "            outputs = model(images)\n",
    "            loss = criterion(outputs, labels)\n",
    "            val_loss += loss.item()\n",
    "\n",
    "            _, preds = torch.max(outputs, 1)\n",
    "            all_val_labels.extend(labels.cpu().numpy())\n",
    "            all_val_preds.extend(preds.cpu().numpy())\n",
    "\n",
    "    # Calculate validation metrics\n",
    "    val_loss /= len(val_loader)\n",
    "    val_report = classification_report(\n",
    "        all_val_labels, all_val_preds, target_names=train_dataset.classes, zero_division=0, output_dict=True\n",
    "    )\n",
    "    val_precision = val_report['weighted avg']['precision']\n",
    "    val_recall = val_report['weighted avg']['recall']\n",
    "    val_f1 = val_report['weighted avg']['f1-score']\n",
    "\n",
    "    # Save metrics for this epoch\n",
    "    metrics.append({\n",
    "        \"epoch\": epoch + 1,\n",
    "        \"train_loss\": train_loss,\n",
    "        \"val_loss\": val_loss,\n",
    "        \"precision\": val_precision,\n",
    "        \"recall\": val_recall,\n",
    "        \"f1_score\": val_f1\n",
    "    })\n",
    "\n",
    "    # Print training and validation metrics\n",
    "    print(f\"Epoch [{epoch+1}/{num_epochs}]: Train Loss: {train_loss:.4f}, \"\n",
    "          f\"Val Loss: {val_loss:.4f}, Precision: {val_precision:.4f}, \"\n",
    "          f\"Recall: {val_recall:.4f}, F1-Score: {val_f1:.4f}\")\n",
    "\n",
    "# Record the end time of the training process\n",
    "training_end_time = time.time()\n",
    "total_training_time_seconds = training_end_time - training_start_time\n",
    "total_training_time_minutes = total_training_time_seconds / 60\n",
    "\n",
    "# Save metrics to a CSV file\n",
    "with open(save_path, 'w', newline='') as csvfile:\n",
    "    fieldnames = [\"epoch\", \"train_loss\", \"val_loss\", \"precision\", \"recall\", \"f1_score\"]\n",
    "    writer = csv.DictWriter(csvfile, fieldnames=fieldnames)\n",
    "\n",
    "    writer.writeheader()\n",
    "    writer.writerows(metrics)\n",
    "\n",
    "# Append total training time in minutes\n",
    "with open(save_path, 'a', newline='') as csvfile:\n",
    "    csvfile.write(f\"\\nTotal Training Time (minutes):,{total_training_time_minutes:.2f}\\n\")\n",
    "\n",
    "print(f\"Training metrics saved to: {save_path}\")\n",
    "print(f\"Total training time for all epochs: {total_training_time_minutes:.2f} minutes\")\n"
   ]
  },
  {
   "cell_type": "markdown",
   "metadata": {},
   "source": [
    "### Testing and Evaluation"
   ]
  },
  {
   "cell_type": "code",
   "execution_count": 5,
   "metadata": {},
   "outputs": [
    {
     "name": "stdout",
     "output_type": "stream",
     "text": [
      "Classification Report:\n",
      "\n",
      "              precision    recall  f1-score   support\n",
      "\n",
      "       delta       0.96      0.97      0.96       330\n",
      "     estuary       0.91      0.94      0.92       125\n",
      "       flood       0.88      0.89      0.88       283\n",
      "    glaciers       0.97      0.96      0.97       240\n",
      "  hot_spring       0.85      0.90      0.88       201\n",
      "        lake       0.91      0.88      0.89       153\n",
      "        pool       0.95      0.94      0.94        79\n",
      "      puddle       0.83      0.80      0.81       168\n",
      "      rapids       0.89      0.85      0.87       219\n",
      "       river       0.74      0.81      0.77        73\n",
      "         sea       0.90      0.94      0.92       108\n",
      "        snow       0.96      0.92      0.94       142\n",
      "       swamp       0.96      0.93      0.94       188\n",
      "   waterfall       0.84      0.79      0.81        96\n",
      "     wetland       0.95      0.97      0.96        93\n",
      "\n",
      "    accuracy                           0.91      2498\n",
      "   macro avg       0.90      0.90      0.90      2498\n",
      "weighted avg       0.91      0.91      0.91      2498\n",
      "\n"
     ]
    }
   ],
   "source": [
    "# Testing the model\n",
    "model.eval()\n",
    "all_labels = []\n",
    "all_preds = []\n",
    "\n",
    "with torch.no_grad():\n",
    "    for images, labels, _ in test_loader:  # Assuming your DataLoader provides 3 items\n",
    "        images, labels = images.to(device), labels.to(device)\n",
    "        outputs = model(images)\n",
    "        _, preds = torch.max(outputs, 1)\n",
    "        \n",
    "        all_labels.extend(labels.cpu().numpy())\n",
    "        all_preds.extend(preds.cpu().numpy())\n",
    "\n",
    "# Calculate classification metrics\n",
    "class_names = train_dataset.classes  # Assuming train_dataset has the class names\n",
    "report = classification_report(all_labels, all_preds, target_names=class_names)\n",
    "print(\"Classification Report:\\n\")\n",
    "print(report)\n",
    "\n",
    "# Compute per-class accuracy\n",
    "all_labels = np.array(all_labels)\n",
    "all_preds = np.array(all_preds)\n",
    "\n"
   ]
  },
  {
   "cell_type": "markdown",
   "metadata": {},
   "source": [
    "### Save Results"
   ]
  },
  {
   "cell_type": "code",
   "execution_count": 6,
   "metadata": {},
   "outputs": [],
   "source": [
    "# Save classification report\n",
    "with open(\"classification_report_EfficientNet-B0 model.txt\", \"w\") as f:\n",
    "    f.write(report)\n",
    "\n",
    "# Save model weights\n",
    "torch.save(model.state_dict(), \"EfficientNet-B0 model_cpu.pth\")"
   ]
  }
 ],
 "metadata": {
  "kernelspec": {
   "display_name": "Python 3",
   "language": "python",
   "name": "python3"
  },
  "language_info": {
   "codemirror_mode": {
    "name": "ipython",
    "version": 3
   },
   "file_extension": ".py",
   "mimetype": "text/x-python",
   "name": "python",
   "nbconvert_exporter": "python",
   "pygments_lexer": "ipython3",
   "version": "3.12.0"
  }
 },
 "nbformat": 4,
 "nbformat_minor": 2
}
