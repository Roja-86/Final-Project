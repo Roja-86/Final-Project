{
 "cells": [
  {
   "cell_type": "markdown",
   "metadata": {},
   "source": [
    "### Essential Libraries"
   ]
  },
  {
   "cell_type": "code",
   "execution_count": 1,
   "metadata": {},
   "outputs": [],
   "source": [
    "import torch\n",
    "import torch.nn as nn\n",
    "from torchvision import transforms\n",
    "from torch.utils.data import DataLoader\n",
    "from dataloader import ATeX  # Ensure dataloader.py is in the same directory or in PYTHONPATH\n",
    "import torchvision.models as models\n",
    "from sklearn.metrics import classification_report  # Import the function\n",
    "from torch.optim import SGD\n",
    "import numpy as np\n",
    "from torchvision.models import efficientnet_b7\n",
    "from sklearn.metrics import accuracy_score\n",
    "from torch.optim.lr_scheduler import CosineAnnealingLR"
   ]
  },
  {
   "cell_type": "markdown",
   "metadata": {},
   "source": [
    "### Dataset Preparation and DataLoader Setup"
   ]
  },
  {
   "cell_type": "code",
   "execution_count": 2,
   "metadata": {},
   "outputs": [],
   "source": [
    "# Define transformations and dataset\n",
    "mean_std = ([0.485, 0.456, 0.406], [0.229, 0.224, 0.225])\n",
    "data_transforms = transforms.Compose([\n",
    "    transforms.ToTensor(),\n",
    "    transforms.Normalize(mean_std[0], mean_std[1]),\n",
    "])\n",
    "\n",
    "train_dataset = ATeX(split=\"train\", transform=data_transforms)\n",
    "test_dataset = ATeX(split=\"test\", transform=data_transforms)\n",
    "\n",
    "# Define DataLoaders\n",
    "batch_size = 64\n",
    "train_loader = DataLoader(train_dataset, batch_size=batch_size, shuffle=True)\n",
    "test_loader = DataLoader(test_dataset, batch_size=batch_size, shuffle=False)\n",
    "\n",
    "# Validation Dataset and DataLoader\n",
    "val_dataset = ATeX(split=\"val\", transform=data_transforms)\n",
    "val_loader = DataLoader(val_dataset, batch_size=batch_size, shuffle=False)"
   ]
  },
  {
   "cell_type": "markdown",
   "metadata": {},
   "source": [
    "### Define the ShuffleNetV2 Model"
   ]
  },
  {
   "cell_type": "code",
   "execution_count": 3,
   "metadata": {},
   "outputs": [
    {
     "name": "stderr",
     "output_type": "stream",
     "text": [
      "c:\\Users\\Roja\\AppData\\Local\\Programs\\Python\\Python312\\Lib\\site-packages\\torchvision\\models\\_utils.py:208: UserWarning: The parameter 'pretrained' is deprecated since 0.13 and may be removed in the future, please use 'weights' instead.\n",
      "  warnings.warn(\n",
      "c:\\Users\\Roja\\AppData\\Local\\Programs\\Python\\Python312\\Lib\\site-packages\\torchvision\\models\\_utils.py:223: UserWarning: Arguments other than a weight enum or `None` for 'weights' are deprecated since 0.13 and may be removed in the future. The current behavior is equivalent to passing `weights=EfficientNet_B7_Weights.IMAGENET1K_V1`. You can also use `weights=EfficientNet_B7_Weights.DEFAULT` to get the most up-to-date weights.\n",
      "  warnings.warn(msg)\n",
      "Downloading: \"https://download.pytorch.org/models/efficientnet_b7_lukemelas-c5b4e57e.pth\" to C:\\Users\\Roja/.cache\\torch\\hub\\checkpoints\\efficientnet_b7_lukemelas-c5b4e57e.pth\n",
      "100%|██████████| 255M/255M [00:08<00:00, 33.0MB/s] \n"
     ]
    }
   ],
   "source": [
    "# Load pre-trained EfficientNet-B7 model and modify for 15 classes\n",
    "class EffNetB7(nn.Module):\n",
    "    def __init__(self, num_classes=15):\n",
    "        super(EffNetB7, self).__init__()\n",
    "        self.effnet = efficientnet_b7(pretrained=True)\n",
    "        # Replace the classifier with a new one for 15 classes\n",
    "        self.effnet.classifier[1] = nn.Linear(self.effnet.classifier[1].in_features, num_classes)\n",
    "\n",
    "    def forward(self, x):\n",
    "        return self.effnet(x)\n",
    "\n",
    "# Instantiate the model\n",
    "device = torch.device(\"cuda\" if torch.cuda.is_available() else \"cpu\")\n",
    "model = EffNetB7(num_classes=15).to(device)\n"
   ]
  },
  {
   "cell_type": "markdown",
   "metadata": {},
   "source": [
    "### Training, Validation and Evaluation"
   ]
  },
  {
   "cell_type": "code",
   "execution_count": 4,
   "metadata": {},
   "outputs": [
    {
     "name": "stdout",
     "output_type": "stream",
     "text": [
      "Epoch [1/30]: Train Loss: 2.1532, Val Loss: 2.9756, Precision: 0.0111, Recall: 0.0863, F1-Score: 0.0197\n",
      "Epoch [2/30]: Train Loss: 1.3772, Val Loss: 1.2885, Precision: 0.6244, Recall: 0.5855, F1-Score: 0.5832\n",
      "Epoch [3/30]: Train Loss: 1.0130, Val Loss: 22.3466, Precision: 0.0174, Recall: 0.1318, F1-Score: 0.0307\n",
      "Epoch [4/30]: Train Loss: 0.7523, Val Loss: 0.9151, Precision: 0.7299, Recall: 0.7165, F1-Score: 0.7096\n",
      "Epoch [5/30]: Train Loss: 0.5341, Val Loss: 0.7138, Precision: 0.7989, Recall: 0.7939, F1-Score: 0.7933\n",
      "Epoch [6/30]: Train Loss: 0.4111, Val Loss: 0.6394, Precision: 0.8033, Recall: 0.8011, F1-Score: 0.8003\n",
      "Epoch [7/30]: Train Loss: 0.3259, Val Loss: 0.7224, Precision: 0.8165, Recall: 0.8003, F1-Score: 0.8027\n",
      "Epoch [8/30]: Train Loss: 0.2879, Val Loss: 0.6435, Precision: 0.8239, Recall: 0.8139, F1-Score: 0.8157\n",
      "Epoch [9/30]: Train Loss: 0.2291, Val Loss: 0.6003, Precision: 0.8368, Recall: 0.8315, F1-Score: 0.8319\n",
      "Epoch [10/30]: Train Loss: 0.1756, Val Loss: 0.5665, Precision: 0.8534, Recall: 0.8490, F1-Score: 0.8496\n",
      "Epoch [11/30]: Train Loss: 0.1521, Val Loss: 0.5635, Precision: 0.8511, Recall: 0.8482, F1-Score: 0.8478\n",
      "Epoch [12/30]: Train Loss: 0.1140, Val Loss: 0.6757, Precision: 0.8418, Recall: 0.8355, F1-Score: 0.8355\n",
      "Epoch [13/30]: Train Loss: 0.0948, Val Loss: 0.5710, Precision: 0.8589, Recall: 0.8570, F1-Score: 0.8567\n",
      "Epoch [14/30]: Train Loss: 0.0801, Val Loss: 0.6010, Precision: 0.8563, Recall: 0.8546, F1-Score: 0.8548\n",
      "Epoch [15/30]: Train Loss: 0.0714, Val Loss: 0.5869, Precision: 0.8648, Recall: 0.8610, F1-Score: 0.8611\n",
      "Epoch [16/30]: Train Loss: 0.0625, Val Loss: 0.6973, Precision: 0.8501, Recall: 0.8419, F1-Score: 0.8425\n",
      "Epoch [17/30]: Train Loss: 0.0483, Val Loss: 0.5625, Precision: 0.8696, Recall: 0.8682, F1-Score: 0.8680\n",
      "Epoch [18/30]: Train Loss: 0.0482, Val Loss: 0.5481, Precision: 0.8688, Recall: 0.8674, F1-Score: 0.8673\n",
      "Epoch [19/30]: Train Loss: 0.0369, Val Loss: 0.5606, Precision: 0.8758, Recall: 0.8730, F1-Score: 0.8730\n",
      "Epoch [20/30]: Train Loss: 0.0352, Val Loss: 0.5232, Precision: 0.8775, Recall: 0.8762, F1-Score: 0.8759\n",
      "Epoch [21/30]: Train Loss: 0.0364, Val Loss: 0.5082, Precision: 0.8849, Recall: 0.8834, F1-Score: 0.8831\n",
      "Epoch [22/30]: Train Loss: 0.0267, Val Loss: 0.5139, Precision: 0.8788, Recall: 0.8778, F1-Score: 0.8774\n",
      "Epoch [23/30]: Train Loss: 0.0250, Val Loss: 0.5174, Precision: 0.8753, Recall: 0.8746, F1-Score: 0.8740\n",
      "Epoch [24/30]: Train Loss: 0.0215, Val Loss: 0.5172, Precision: 0.8780, Recall: 0.8770, F1-Score: 0.8764\n",
      "Epoch [25/30]: Train Loss: 0.0239, Val Loss: 0.5080, Precision: 0.8808, Recall: 0.8802, F1-Score: 0.8794\n",
      "Epoch [26/30]: Train Loss: 0.0229, Val Loss: 0.5080, Precision: 0.8822, Recall: 0.8818, F1-Score: 0.8810\n",
      "Epoch [27/30]: Train Loss: 0.0213, Val Loss: 0.5021, Precision: 0.8872, Recall: 0.8866, F1-Score: 0.8859\n",
      "Epoch [28/30]: Train Loss: 0.0183, Val Loss: 0.4979, Precision: 0.8888, Recall: 0.8882, F1-Score: 0.8876\n",
      "Epoch [29/30]: Train Loss: 0.0203, Val Loss: 0.4977, Precision: 0.8880, Recall: 0.8874, F1-Score: 0.8868\n",
      "Epoch [30/30]: Train Loss: 0.0182, Val Loss: 0.4993, Precision: 0.8873, Recall: 0.8866, F1-Score: 0.8860\n"
     ]
    }
   ],
   "source": [
    "optimizer = torch.optim.SGD(model.parameters(), lr=0.01, momentum=0.9, weight_decay=1e-4)\n",
    "scheduler = CosineAnnealingLR(optimizer, T_max=30)  # Cosine annealing over 30 epochs\n",
    "# Define the loss function (CrossEntropyLoss or Label Smoothing)\n",
    "criterion = nn.CrossEntropyLoss()  # Replace with label_smoothing_loss if needed\n",
    "\n",
    "num_epochs = 30\n",
    "for epoch in range(num_epochs):\n",
    "    # Training Phase\n",
    "    model.train()\n",
    "    running_loss = 0.0\n",
    "    for images, labels, _ in train_loader:\n",
    "        images, labels = images.to(device), labels.to(device)\n",
    "\n",
    "        # Forward pass\n",
    "        outputs = model(images)\n",
    "        loss = criterion(outputs, labels)  # Use the defined loss function\n",
    "\n",
    "        # Backward pass and optimization\n",
    "        optimizer.zero_grad()\n",
    "        loss.backward()\n",
    "        optimizer.step()\n",
    "\n",
    "        running_loss += loss.item()\n",
    "\n",
    "    # Calculate average training loss\n",
    "    train_loss = running_loss / len(train_loader)\n",
    "\n",
    "    # Update learning rate\n",
    "    scheduler.step()\n",
    "\n",
    "    # Validation Phase\n",
    "    model.eval()\n",
    "    val_loss = 0.0\n",
    "    all_val_labels = []\n",
    "    all_val_preds = []\n",
    "    with torch.no_grad():\n",
    "        for images, labels, _ in val_loader:\n",
    "            images, labels = images.to(device), labels.to(device)\n",
    "            outputs = model(images)\n",
    "            loss = criterion(outputs, labels)\n",
    "            val_loss += loss.item()\n",
    "\n",
    "            _, preds = torch.max(outputs, 1)\n",
    "            all_val_labels.extend(labels.cpu().numpy())\n",
    "            all_val_preds.extend(preds.cpu().numpy())\n",
    "\n",
    "    # Calculate validation metrics\n",
    "    val_loss /= len(val_loader)\n",
    "    val_report = classification_report(\n",
    "        all_val_labels, all_val_preds, target_names=train_dataset.classes, zero_division=0, output_dict=True\n",
    "    )\n",
    "    val_precision = val_report['weighted avg']['precision']\n",
    "    val_recall = val_report['weighted avg']['recall']\n",
    "    val_f1 = val_report['weighted avg']['f1-score']\n",
    "\n",
    "    # Print training and validation metrics\n",
    "    print(f\"Epoch [{epoch+1}/{num_epochs}]: Train Loss: {train_loss:.4f}, \"\n",
    "          f\"Val Loss: {val_loss:.4f}, Precision: {val_precision:.4f}, \"\n",
    "          f\"Recall: {val_recall:.4f}, F1-Score: {val_f1:.4f}\")\n"
   ]
  },
  {
   "cell_type": "markdown",
   "metadata": {},
   "source": [
    "### Testing and Evaluation"
   ]
  },
  {
   "cell_type": "code",
   "execution_count": 5,
   "metadata": {},
   "outputs": [
    {
     "name": "stdout",
     "output_type": "stream",
     "text": [
      "Classification Report:\n",
      "\n",
      "              precision    recall  f1-score   support\n",
      "\n",
      "       delta       0.94      0.97      0.96       330\n",
      "     estuary       0.90      0.91      0.91       125\n",
      "       flood       0.85      0.87      0.86       283\n",
      "    glaciers       0.93      0.93      0.93       240\n",
      "  hot_spring       0.86      0.87      0.86       201\n",
      "        lake       0.90      0.84      0.86       153\n",
      "        pool       0.93      0.85      0.89        79\n",
      "      puddle       0.80      0.74      0.77       168\n",
      "      rapids       0.80      0.80      0.80       219\n",
      "       river       0.76      0.70      0.73        73\n",
      "         sea       0.84      0.89      0.86       108\n",
      "        snow       0.87      0.91      0.89       142\n",
      "       swamp       0.90      0.91      0.90       188\n",
      "   waterfall       0.82      0.80      0.81        96\n",
      "     wetland       0.94      0.96      0.95        93\n",
      "\n",
      "    accuracy                           0.88      2498\n",
      "   macro avg       0.87      0.86      0.87      2498\n",
      "weighted avg       0.87      0.88      0.87      2498\n",
      "\n"
     ]
    }
   ],
   "source": [
    "# Testing the model\n",
    "model.eval()\n",
    "all_labels = []\n",
    "all_preds = []\n",
    "\n",
    "with torch.no_grad():\n",
    "    for images, labels, _ in test_loader:  # Assuming your DataLoader provides 3 items\n",
    "        images, labels = images.to(device), labels.to(device)\n",
    "        outputs = model(images)\n",
    "        _, preds = torch.max(outputs, 1)\n",
    "        \n",
    "        all_labels.extend(labels.cpu().numpy())\n",
    "        all_preds.extend(preds.cpu().numpy())\n",
    "\n",
    "# Calculate classification metrics\n",
    "class_names = train_dataset.classes  # Assuming train_dataset has the class names\n",
    "report = classification_report(all_labels, all_preds, target_names=class_names)\n",
    "print(\"Classification Report:\\n\")\n",
    "print(report)\n",
    "\n",
    "# Compute per-class accuracy\n",
    "all_labels = np.array(all_labels)\n",
    "all_preds = np.array(all_preds)\n",
    "\n"
   ]
  },
  {
   "cell_type": "markdown",
   "metadata": {},
   "source": [
    "### Save Results"
   ]
  },
  {
   "cell_type": "code",
   "execution_count": 6,
   "metadata": {},
   "outputs": [],
   "source": [
    "# Save classification report\n",
    "with open(\"classification_report_EfficientNet-B0 model.txt\", \"w\") as f:\n",
    "    f.write(report)\n",
    "\n",
    "# Save model weights\n",
    "torch.save(model.state_dict(), \"EfficientNet-B0 model_cpu.pth\")"
   ]
  }
 ],
 "metadata": {
  "kernelspec": {
   "display_name": "Python 3",
   "language": "python",
   "name": "python3"
  },
  "language_info": {
   "codemirror_mode": {
    "name": "ipython",
    "version": 3
   },
   "file_extension": ".py",
   "mimetype": "text/x-python",
   "name": "python",
   "nbconvert_exporter": "python",
   "pygments_lexer": "ipython3",
   "version": "3.12.0"
  }
 },
 "nbformat": 4,
 "nbformat_minor": 2
}
