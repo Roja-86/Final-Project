{
 "cells": [
  {
   "cell_type": "markdown",
   "metadata": {},
   "source": [
    "### Essential Libraries"
   ]
  },
  {
   "cell_type": "code",
   "execution_count": 1,
   "metadata": {},
   "outputs": [],
   "source": [
    "import torch\n",
    "import csv\n",
    "import os\n",
    "import time\n",
    "import torch.nn as nn\n",
    "from torchvision import transforms\n",
    "from torch.utils.data import DataLoader\n",
    "from dataloader import ATeX  # Ensure dataloader.py is in the same directory or in PYTHONPATH\n",
    "import torchvision.models as models\n",
    "from sklearn.metrics import classification_report  # Import the function\n",
    "from torch.optim import SGD\n",
    "import numpy as np\n",
    "from torchvision.models import efficientnet_b7\n",
    "from sklearn.metrics import accuracy_score\n",
    "from torch.optim.lr_scheduler import CosineAnnealingLR"
   ]
  },
  {
   "cell_type": "markdown",
   "metadata": {},
   "source": [
    "### Dataset Preparation and DataLoader Setup"
   ]
  },
  {
   "cell_type": "code",
   "execution_count": 2,
   "metadata": {},
   "outputs": [],
   "source": [
    "# Define transformations and dataset\n",
    "mean_std = ([0.485, 0.456, 0.406], [0.229, 0.224, 0.225])\n",
    "data_transforms = transforms.Compose([\n",
    "    transforms.ToTensor(),\n",
    "    transforms.Normalize(mean_std[0], mean_std[1]),\n",
    "])\n",
    "\n",
    "train_dataset = ATeX(split=\"train\", transform=data_transforms)\n",
    "test_dataset = ATeX(split=\"test\", transform=data_transforms)\n",
    "\n",
    "# Define DataLoaders\n",
    "batch_size = 64\n",
    "train_loader = DataLoader(train_dataset, batch_size=batch_size, shuffle=True)\n",
    "test_loader = DataLoader(test_dataset, batch_size=batch_size, shuffle=False)\n",
    "\n",
    "# Validation Dataset and DataLoader\n",
    "val_dataset = ATeX(split=\"val\", transform=data_transforms)\n",
    "val_loader = DataLoader(val_dataset, batch_size=batch_size, shuffle=False)"
   ]
  },
  {
   "cell_type": "markdown",
   "metadata": {},
   "source": [
    "### Define the ShuffleNetV2 Model"
   ]
  },
  {
   "cell_type": "code",
   "execution_count": 3,
   "metadata": {},
   "outputs": [
    {
     "name": "stderr",
     "output_type": "stream",
     "text": [
      "c:\\Users\\Roja\\AppData\\Local\\Programs\\Python\\Python312\\Lib\\site-packages\\torchvision\\models\\_utils.py:208: UserWarning: The parameter 'pretrained' is deprecated since 0.13 and may be removed in the future, please use 'weights' instead.\n",
      "  warnings.warn(\n",
      "c:\\Users\\Roja\\AppData\\Local\\Programs\\Python\\Python312\\Lib\\site-packages\\torchvision\\models\\_utils.py:223: UserWarning: Arguments other than a weight enum or `None` for 'weights' are deprecated since 0.13 and may be removed in the future. The current behavior is equivalent to passing `weights=EfficientNet_B7_Weights.IMAGENET1K_V1`. You can also use `weights=EfficientNet_B7_Weights.DEFAULT` to get the most up-to-date weights.\n",
      "  warnings.warn(msg)\n"
     ]
    }
   ],
   "source": [
    "# Load pre-trained EfficientNet-B7 model and modify for 15 classes\n",
    "class EffNetB7(nn.Module):\n",
    "    def __init__(self, num_classes=15):\n",
    "        super(EffNetB7, self).__init__()\n",
    "        self.effnet = efficientnet_b7(pretrained=True)\n",
    "        # Replace the classifier with a new one for 15 classes\n",
    "        self.effnet.classifier[1] = nn.Linear(self.effnet.classifier[1].in_features, num_classes)\n",
    "\n",
    "    def forward(self, x):\n",
    "        return self.effnet(x)\n",
    "\n",
    "# Instantiate the model\n",
    "device = torch.device(\"cuda\" if torch.cuda.is_available() else \"cpu\")\n",
    "model = EffNetB7(num_classes=15).to(device)\n"
   ]
  },
  {
   "cell_type": "markdown",
   "metadata": {},
   "source": [
    "### Training, Validation and Evaluation"
   ]
  },
  {
   "cell_type": "code",
   "execution_count": 4,
   "metadata": {},
   "outputs": [
    {
     "name": "stdout",
     "output_type": "stream",
     "text": [
      "Epoch [1/30]: Train Loss: 2.1997, Val Loss: 2.7953, Precision: 0.2534, Recall: 0.1350, F1-Score: 0.1109\n",
      "Epoch [2/30]: Train Loss: 1.4762, Val Loss: 1.4183, Precision: 0.6662, Recall: 0.5871, F1-Score: 0.5864\n",
      "Epoch [3/30]: Train Loss: 1.0517, Val Loss: 1.0041, Precision: 0.6922, Recall: 0.6877, F1-Score: 0.6827\n",
      "Epoch [4/30]: Train Loss: 0.7837, Val Loss: 0.8204, Precision: 0.7491, Recall: 0.7380, F1-Score: 0.7380\n",
      "Epoch [5/30]: Train Loss: 0.5981, Val Loss: 0.7395, Precision: 0.7720, Recall: 0.7628, F1-Score: 0.7617\n",
      "Epoch [6/30]: Train Loss: 0.4635, Val Loss: 0.6445, Precision: 0.8038, Recall: 0.7995, F1-Score: 0.7995\n",
      "Epoch [7/30]: Train Loss: 0.3680, Val Loss: 0.7030, Precision: 0.8084, Recall: 0.7987, F1-Score: 0.8002\n",
      "Epoch [8/30]: Train Loss: 0.2702, Val Loss: 0.5879, Precision: 0.8326, Recall: 0.8323, F1-Score: 0.8311\n",
      "Epoch [9/30]: Train Loss: 0.2202, Val Loss: 0.6532, Precision: 0.8221, Recall: 0.8147, F1-Score: 0.8156\n",
      "Epoch [10/30]: Train Loss: 0.2054, Val Loss: 0.5727, Precision: 0.8325, Recall: 0.8307, F1-Score: 0.8302\n",
      "Epoch [11/30]: Train Loss: 0.1530, Val Loss: 0.6338, Precision: 0.8400, Recall: 0.8363, F1-Score: 0.8368\n",
      "Epoch [12/30]: Train Loss: 0.1264, Val Loss: 0.7249, Precision: 0.8324, Recall: 0.8299, F1-Score: 0.8291\n",
      "Epoch [13/30]: Train Loss: 0.1278, Val Loss: 0.7211, Precision: 0.8404, Recall: 0.8347, F1-Score: 0.8340\n",
      "Epoch [14/30]: Train Loss: 0.0983, Val Loss: 0.6010, Precision: 0.8464, Recall: 0.8435, F1-Score: 0.8421\n",
      "Epoch [15/30]: Train Loss: 0.0845, Val Loss: 0.5991, Precision: 0.8624, Recall: 0.8610, F1-Score: 0.8600\n",
      "Epoch [16/30]: Train Loss: 0.0599, Val Loss: 0.5674, Precision: 0.8669, Recall: 0.8658, F1-Score: 0.8647\n",
      "Epoch [17/30]: Train Loss: 0.0646, Val Loss: 0.5615, Precision: 0.8581, Recall: 0.8570, F1-Score: 0.8556\n",
      "Epoch [18/30]: Train Loss: 0.0440, Val Loss: 0.5325, Precision: 0.8801, Recall: 0.8794, F1-Score: 0.8785\n",
      "Epoch [19/30]: Train Loss: 0.0408, Val Loss: 0.5396, Precision: 0.8701, Recall: 0.8706, F1-Score: 0.8698\n",
      "Epoch [20/30]: Train Loss: 0.0397, Val Loss: 0.5541, Precision: 0.8819, Recall: 0.8818, F1-Score: 0.8805\n",
      "Epoch [21/30]: Train Loss: 0.0319, Val Loss: 0.5506, Precision: 0.8797, Recall: 0.8794, F1-Score: 0.8787\n",
      "Epoch [22/30]: Train Loss: 0.0255, Val Loss: 0.5332, Precision: 0.8867, Recall: 0.8866, F1-Score: 0.8860\n",
      "Epoch [23/30]: Train Loss: 0.0319, Val Loss: 0.5452, Precision: 0.8799, Recall: 0.8794, F1-Score: 0.8787\n",
      "Epoch [24/30]: Train Loss: 0.0229, Val Loss: 0.5356, Precision: 0.8780, Recall: 0.8778, F1-Score: 0.8771\n",
      "Epoch [25/30]: Train Loss: 0.0242, Val Loss: 0.5339, Precision: 0.8820, Recall: 0.8818, F1-Score: 0.8813\n",
      "Epoch [26/30]: Train Loss: 0.0205, Val Loss: 0.5291, Precision: 0.8820, Recall: 0.8826, F1-Score: 0.8817\n",
      "Epoch [27/30]: Train Loss: 0.0203, Val Loss: 0.5344, Precision: 0.8830, Recall: 0.8834, F1-Score: 0.8826\n",
      "Epoch [28/30]: Train Loss: 0.0192, Val Loss: 0.5337, Precision: 0.8821, Recall: 0.8826, F1-Score: 0.8817\n",
      "Epoch [29/30]: Train Loss: 0.0181, Val Loss: 0.5335, Precision: 0.8807, Recall: 0.8810, F1-Score: 0.8802\n",
      "Epoch [30/30]: Train Loss: 0.0198, Val Loss: 0.5321, Precision: 0.8832, Recall: 0.8834, F1-Score: 0.8826\n",
      "Training metrics saved to: D:/USC_Course/CSCE 790 Section 007 Neural Networks and Their Applications/atex-main/loss_training time/training_metrics_efficientnet_b7.csv\n",
      "Total training time for all epochs: 206.61 minutes\n"
     ]
    }
   ],
   "source": [
    "# Initialize lists to store metrics\n",
    "metrics = []\n",
    "\n",
    "# Address to save the CSV file\n",
    "model_name = \"efficientnet_b7\"\n",
    "save_dir = r\"D:/USC_Course/CSCE 790 Section 007 Neural Networks and Their Applications/atex-main/loss_training time/\"\n",
    "save_path = os.path.join(save_dir, f\"training_metrics_{model_name}.csv\")\n",
    "\n",
    "# Ensure the directory exists\n",
    "os.makedirs(save_dir, exist_ok=True)\n",
    "\n",
    "# Define optimizer, scheduler, and loss function\n",
    "optimizer = torch.optim.SGD(model.parameters(), lr=0.01, momentum=0.9, weight_decay=1e-4)\n",
    "scheduler = torch.optim.lr_scheduler.CosineAnnealingLR(optimizer, T_max=30)\n",
    "criterion = nn.CrossEntropyLoss()  # Replace with label_smoothing_loss if needed\n",
    "\n",
    "# Record the start time of the training process\n",
    "training_start_time = time.time()\n",
    "\n",
    "# Training loop\n",
    "num_epochs = 30\n",
    "for epoch in range(num_epochs):\n",
    "    # Training Phase\n",
    "    model.train()\n",
    "    running_loss = 0.0\n",
    "    for images, labels, _ in train_loader:\n",
    "        images, labels = images.to(device), labels.to(device)\n",
    "\n",
    "        # Forward pass\n",
    "        outputs = model(images)\n",
    "        loss = criterion(outputs, labels)  # Use the defined loss function\n",
    "\n",
    "        # Backward pass and optimization\n",
    "        optimizer.zero_grad()\n",
    "        loss.backward()\n",
    "        optimizer.step()\n",
    "\n",
    "        running_loss += loss.item()\n",
    "\n",
    "    # Calculate average training loss\n",
    "    train_loss = running_loss / len(train_loader)\n",
    "\n",
    "    # Update learning rate\n",
    "    scheduler.step()\n",
    "\n",
    "    # Validation Phase\n",
    "    model.eval()\n",
    "    val_loss = 0.0\n",
    "    all_val_labels = []\n",
    "    all_val_preds = []\n",
    "    with torch.no_grad():\n",
    "        for images, labels, _ in val_loader:\n",
    "            images, labels = images.to(device), labels.to(device)\n",
    "            outputs = model(images)\n",
    "            loss = criterion(outputs, labels)\n",
    "            val_loss += loss.item()\n",
    "\n",
    "            _, preds = torch.max(outputs, 1)\n",
    "            all_val_labels.extend(labels.cpu().numpy())\n",
    "            all_val_preds.extend(preds.cpu().numpy())\n",
    "\n",
    "    # Calculate validation metrics\n",
    "    val_loss /= len(val_loader)\n",
    "    val_report = classification_report(\n",
    "        all_val_labels, all_val_preds, target_names=train_dataset.classes, zero_division=0, output_dict=True\n",
    "    )\n",
    "    val_precision = val_report['weighted avg']['precision']\n",
    "    val_recall = val_report['weighted avg']['recall']\n",
    "    val_f1 = val_report['weighted avg']['f1-score']\n",
    "\n",
    "    # Save metrics for this epoch\n",
    "    metrics.append({\n",
    "        \"epoch\": epoch + 1,\n",
    "        \"train_loss\": train_loss,\n",
    "        \"val_loss\": val_loss,\n",
    "        \"precision\": val_precision,\n",
    "        \"recall\": val_recall,\n",
    "        \"f1_score\": val_f1\n",
    "    })\n",
    "\n",
    "    # Print training and validation metrics\n",
    "    print(f\"Epoch [{epoch+1}/{num_epochs}]: Train Loss: {train_loss:.4f}, \"\n",
    "          f\"Val Loss: {val_loss:.4f}, Precision: {val_precision:.4f}, \"\n",
    "          f\"Recall: {val_recall:.4f}, F1-Score: {val_f1:.4f}\")\n",
    "\n",
    "# Record the end time of the training process\n",
    "training_end_time = time.time()\n",
    "total_training_time_seconds = training_end_time - training_start_time\n",
    "total_training_time_minutes = total_training_time_seconds / 60\n",
    "\n",
    "# Save metrics to a CSV file\n",
    "with open(save_path, 'w', newline='') as csvfile:\n",
    "    fieldnames = [\"epoch\", \"train_loss\", \"val_loss\", \"precision\", \"recall\", \"f1_score\"]\n",
    "    writer = csv.DictWriter(csvfile, fieldnames=fieldnames)\n",
    "\n",
    "    writer.writeheader()\n",
    "    writer.writerows(metrics)\n",
    "\n",
    "# Append total training time in minutes\n",
    "with open(save_path, 'a', newline='') as csvfile:\n",
    "    csvfile.write(f\"\\nTotal Training Time (minutes):,{total_training_time_minutes:.2f}\\n\")\n",
    "\n",
    "print(f\"Training metrics saved to: {save_path}\")\n",
    "print(f\"Total training time for all epochs: {total_training_time_minutes:.2f} minutes\")\n"
   ]
  },
  {
   "cell_type": "markdown",
   "metadata": {},
   "source": [
    "### Testing and Evaluation"
   ]
  },
  {
   "cell_type": "code",
   "execution_count": 5,
   "metadata": {},
   "outputs": [
    {
     "name": "stdout",
     "output_type": "stream",
     "text": [
      "Classification Report:\n",
      "\n",
      "              precision    recall  f1-score   support\n",
      "\n",
      "       delta       0.93      0.96      0.95       330\n",
      "     estuary       0.87      0.93      0.90       125\n",
      "       flood       0.85      0.86      0.85       283\n",
      "    glaciers       0.93      0.95      0.94       240\n",
      "  hot_spring       0.86      0.88      0.87       201\n",
      "        lake       0.87      0.86      0.86       153\n",
      "        pool       0.93      0.85      0.89        79\n",
      "      puddle       0.77      0.74      0.76       168\n",
      "      rapids       0.83      0.80      0.81       219\n",
      "       river       0.71      0.60      0.65        73\n",
      "         sea       0.80      0.87      0.84       108\n",
      "        snow       0.92      0.91      0.91       142\n",
      "       swamp       0.94      0.91      0.92       188\n",
      "   waterfall       0.77      0.79      0.78        96\n",
      "     wetland       0.98      0.95      0.96        93\n",
      "\n",
      "    accuracy                           0.87      2498\n",
      "   macro avg       0.86      0.86      0.86      2498\n",
      "weighted avg       0.87      0.87      0.87      2498\n",
      "\n"
     ]
    }
   ],
   "source": [
    "# Testing the model\n",
    "model.eval()\n",
    "all_labels = []\n",
    "all_preds = []\n",
    "\n",
    "with torch.no_grad():\n",
    "    for images, labels, _ in test_loader:  # Assuming your DataLoader provides 3 items\n",
    "        images, labels = images.to(device), labels.to(device)\n",
    "        outputs = model(images)\n",
    "        _, preds = torch.max(outputs, 1)\n",
    "        \n",
    "        all_labels.extend(labels.cpu().numpy())\n",
    "        all_preds.extend(preds.cpu().numpy())\n",
    "\n",
    "# Calculate classification metrics\n",
    "class_names = train_dataset.classes  # Assuming train_dataset has the class names\n",
    "report = classification_report(all_labels, all_preds, target_names=class_names)\n",
    "print(\"Classification Report:\\n\")\n",
    "print(report)\n",
    "\n",
    "# Compute per-class accuracy\n",
    "all_labels = np.array(all_labels)\n",
    "all_preds = np.array(all_preds)\n",
    "\n"
   ]
  },
  {
   "cell_type": "markdown",
   "metadata": {},
   "source": [
    "### Save Results"
   ]
  },
  {
   "cell_type": "code",
   "execution_count": 7,
   "metadata": {},
   "outputs": [],
   "source": [
    "# Save classification report\n",
    "with open(\"classification_report_EfficientNet-B7 model.txt\", \"w\") as f:\n",
    "    f.write(report)\n",
    "\n",
    "# Save model weights\n",
    "torch.save(model.state_dict(), \"EfficientNet-B7 model_cpu.pth\")"
   ]
  }
 ],
 "metadata": {
  "kernelspec": {
   "display_name": "Python 3",
   "language": "python",
   "name": "python3"
  },
  "language_info": {
   "codemirror_mode": {
    "name": "ipython",
    "version": 3
   },
   "file_extension": ".py",
   "mimetype": "text/x-python",
   "name": "python",
   "nbconvert_exporter": "python",
   "pygments_lexer": "ipython3",
   "version": "3.12.0"
  }
 },
 "nbformat": 4,
 "nbformat_minor": 2
}
